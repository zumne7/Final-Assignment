{
 "cells": [
  {
   "cell_type": "markdown",
   "metadata": {
    "colab_type": "text",
    "id": "_M-kByW9oXr7"
   },
   "source": [
    "# IBM Data Science Professional\n",
    "**Week 4 assignment**\n",
    "\n",
    "Mapping London crimes and schools to understand the safest areas"
   ]
  },
  {
   "cell_type": "code",
   "execution_count": 0,
   "metadata": {
    "colab": {},
    "colab_type": "code",
    "id": "pxNab5q5z-kf"
   },
   "outputs": [],
   "source": [
    "# import libraries\n",
    "import pandas as pd\n",
    "import numpy as np\n",
    "import folium\n",
    "import requests\n",
    "import os\n",
    "import json\n",
    "\n",
    "from geopy import Nominatim\n",
    "from sklearn import metrics\n",
    "from sklearn.cluster import KMeans\n",
    "from folium.plugins import HeatMap\n",
    "from folium import plugins\n",
    "from pandas.io.json import json_normalize\n",
    "from branca.colormap import linear\n",
    "\n"
   ]
  },
  {
   "cell_type": "markdown",
   "metadata": {
    "colab_type": "text",
    "id": "S0Tj0nIU1Pqb"
   },
   "source": [
    "### Get geo locations\n",
    "\n",
    "We'll use London tube station latitude and longitude to query the Foursquare API.\n"
   ]
  },
  {
   "cell_type": "code",
   "execution_count": 0,
   "metadata": {
    "colab": {
     "base_uri": "https://localhost:8080/",
     "height": 195
    },
    "colab_type": "code",
    "id": "mVbpzO6q1M1s",
    "outputId": "74ab1919-38c2-4472-badd-e8acf33bf12f"
   },
   "outputs": [
    {
     "data": {
      "text/html": [
       "<div>\n",
       "<style scoped>\n",
       "    .dataframe tbody tr th:only-of-type {\n",
       "        vertical-align: middle;\n",
       "    }\n",
       "\n",
       "    .dataframe tbody tr th {\n",
       "        vertical-align: top;\n",
       "    }\n",
       "\n",
       "    .dataframe thead th {\n",
       "        text-align: right;\n",
       "    }\n",
       "</style>\n",
       "<table border=\"1\" class=\"dataframe\">\n",
       "  <thead>\n",
       "    <tr style=\"text-align: right;\">\n",
       "      <th></th>\n",
       "      <th>Name</th>\n",
       "      <th>Latitude</th>\n",
       "      <th>Longitude</th>\n",
       "      <th>Platform / Entrance</th>\n",
       "      <th>Collected By</th>\n",
       "      <th>Collected On</th>\n",
       "      <th>Line</th>\n",
       "      <th>Step free</th>\n",
       "    </tr>\n",
       "  </thead>\n",
       "  <tbody>\n",
       "    <tr>\n",
       "      <th>0</th>\n",
       "      <td>Acton Town</td>\n",
       "      <td>51.502500</td>\n",
       "      <td>-0.278126</td>\n",
       "      <td>Platform</td>\n",
       "      <td>User:Gagravarr</td>\n",
       "      <td>24/11/06</td>\n",
       "      <td>District, Piccadilly</td>\n",
       "      <td>NaN</td>\n",
       "    </tr>\n",
       "    <tr>\n",
       "      <th>1</th>\n",
       "      <td>Acton Central</td>\n",
       "      <td>51.50883531</td>\n",
       "      <td>-0.263033174</td>\n",
       "      <td>Entrance</td>\n",
       "      <td>User:Firefishy</td>\n",
       "      <td>08/05/2007</td>\n",
       "      <td>London Overground</td>\n",
       "      <td>NaN</td>\n",
       "    </tr>\n",
       "    <tr>\n",
       "      <th>2</th>\n",
       "      <td>Acton Central</td>\n",
       "      <td>51.50856013</td>\n",
       "      <td>-0.262879534</td>\n",
       "      <td>Platform</td>\n",
       "      <td>User:Firefishy</td>\n",
       "      <td>08/05/2007</td>\n",
       "      <td>London Overground</td>\n",
       "      <td>NaN</td>\n",
       "    </tr>\n",
       "    <tr>\n",
       "      <th>3</th>\n",
       "      <td>Aldgate</td>\n",
       "      <td>51.51394</td>\n",
       "      <td>-0.07537</td>\n",
       "      <td>Aldgate High Street entrance</td>\n",
       "      <td>User:Morwen</td>\n",
       "      <td>28/4/2007</td>\n",
       "      <td>Metropolitan</td>\n",
       "      <td>No</td>\n",
       "    </tr>\n",
       "    <tr>\n",
       "      <th>4</th>\n",
       "      <td>Aldgate East</td>\n",
       "      <td>51.51514</td>\n",
       "      <td>-0.07178</td>\n",
       "      <td>Entrance</td>\n",
       "      <td>User:Parsingphase</td>\n",
       "      <td>(2006)</td>\n",
       "      <td>District, Hammersmith &amp; City</td>\n",
       "      <td>NaN</td>\n",
       "    </tr>\n",
       "  </tbody>\n",
       "</table>\n",
       "</div>"
      ],
      "text/plain": [
       "            Name     Latitude  ...                          Line Step free\n",
       "0     Acton Town    51.502500  ...          District, Piccadilly       NaN\n",
       "1  Acton Central  51.50883531  ...             London Overground       NaN\n",
       "2  Acton Central  51.50856013  ...             London Overground       NaN\n",
       "3        Aldgate     51.51394  ...                  Metropolitan        No\n",
       "4   Aldgate East     51.51514  ...  District, Hammersmith & City       NaN\n",
       "\n",
       "[5 rows x 8 columns]"
      ]
     },
     "execution_count": 3,
     "metadata": {
      "tags": []
     },
     "output_type": "execute_result"
    }
   ],
   "source": [
    "# extract the tube stations table from the wiki page\n",
    "link = 'https://wiki.openstreetmap.org/wiki/List_of_London_Underground_stations'\n",
    "    \n",
    "tables = pd.read_html(link)\n",
    "\n",
    "tables[0].head()"
   ]
  },
  {
   "cell_type": "code",
   "execution_count": 0,
   "metadata": {
    "colab": {
     "base_uri": "https://localhost:8080/",
     "height": 166
    },
    "colab_type": "code",
    "id": "Gnj8VUcf1VBN",
    "outputId": "30839f09-54be-475a-eaa4-c675058b0fb5"
   },
   "outputs": [
    {
     "data": {
      "text/html": [
       "<div>\n",
       "<style scoped>\n",
       "    .dataframe tbody tr th:only-of-type {\n",
       "        vertical-align: middle;\n",
       "    }\n",
       "\n",
       "    .dataframe tbody tr th {\n",
       "        vertical-align: top;\n",
       "    }\n",
       "\n",
       "    .dataframe thead th {\n",
       "        text-align: right;\n",
       "    }\n",
       "</style>\n",
       "<table border=\"1\" class=\"dataframe\">\n",
       "  <thead>\n",
       "    <tr style=\"text-align: right;\">\n",
       "      <th></th>\n",
       "      <th>Name</th>\n",
       "      <th>Latitude</th>\n",
       "      <th>Longitude</th>\n",
       "    </tr>\n",
       "  </thead>\n",
       "  <tbody>\n",
       "    <tr>\n",
       "      <th>count</th>\n",
       "      <td>291</td>\n",
       "      <td>291</td>\n",
       "      <td>291</td>\n",
       "    </tr>\n",
       "    <tr>\n",
       "      <th>unique</th>\n",
       "      <td>291</td>\n",
       "      <td>289</td>\n",
       "      <td>291</td>\n",
       "    </tr>\n",
       "    <tr>\n",
       "      <th>top</th>\n",
       "      <td>Brondesbury Park</td>\n",
       "      <td>51.57565</td>\n",
       "      <td>-0.20931</td>\n",
       "    </tr>\n",
       "    <tr>\n",
       "      <th>freq</th>\n",
       "      <td>1</td>\n",
       "      <td>2</td>\n",
       "      <td>1</td>\n",
       "    </tr>\n",
       "  </tbody>\n",
       "</table>\n",
       "</div>"
      ],
      "text/plain": [
       "                    Name  Latitude Longitude\n",
       "count                291       291       291\n",
       "unique               291       289       291\n",
       "top     Brondesbury Park  51.57565  -0.20931\n",
       "freq                   1         2         1"
      ]
     },
     "execution_count": 4,
     "metadata": {
      "tags": []
     },
     "output_type": "execute_result"
    }
   ],
   "source": [
    "# select table columns and assign to dataframe\n",
    "df_tube_stations = tables[0].loc[:, ['Name', 'Latitude', 'Longitude']]\n",
    "\n",
    "# drop duplicates and NaN values\n",
    "df_tube_stations = df_tube_stations.drop_duplicates(['Name'])\n",
    "df_tube_stations = df_tube_stations.dropna(axis=0)\n",
    "\n",
    "df_tube_stations.describe()"
   ]
  },
  {
   "cell_type": "markdown",
   "metadata": {
    "colab_type": "text",
    "id": "Gwn_V59ZsKPW"
   },
   "source": [
    "### Get crime data\n",
    "\n",
    "We'll use this data for the choropleth map."
   ]
  },
  {
   "cell_type": "code",
   "execution_count": 2,
   "metadata": {},
   "outputs": [],
   "source": [
    "from pandas import DataFrame"
   ]
  },
  {
   "cell_type": "markdown",
   "metadata": {},
   "source": [
    "London total crime data summarized from london.gov"
   ]
  },
  {
   "cell_type": "code",
   "execution_count": 3,
   "metadata": {
    "colab": {
     "base_uri": "https://localhost:8080/",
     "height": 370
    },
    "colab_type": "code",
    "id": "7I-baaG1sP7D",
    "outputId": "6507b2ed-802c-4a98-e4bf-d11272f1c4ce"
   },
   "outputs": [
    {
     "name": "stdout",
     "output_type": "stream",
     "text": [
      "                   Borough  Amount\n",
      "0     Barking and Dagenham   44195\n",
      "1                   Barnet   47586\n",
      "2                   Bexley   30686\n",
      "3                    Brent   65867\n",
      "4                  Bromley   47917\n",
      "5                  Camdenm   53753\n",
      "6           City of London   68705\n",
      "7                  Croydon   69268\n",
      "8                   Ealing   70484\n",
      "9                  Enfield   45031\n",
      "10               Greenwich   58298\n",
      "11                 Hackney   60485\n",
      "12  Hammersmith and Fulham   44741\n",
      "13                Haringey   53458\n",
      "14                  Harrow   30917\n",
      "15                Havering   35961\n",
      "16              Hillingdon   54712\n",
      "17                Hounslow   53622\n",
      "18               Islington   55426\n",
      "19  Kensington and Chelsea   30058\n",
      "20    Kingston upon Thames   22018\n",
      "21                 Lambeth   74856\n",
      "22                Lewisham   66854\n",
      "23                  Merton   28902\n",
      "24                  Newham   68493\n",
      "25               Redbridge   43173\n",
      "26    Richmond upon Thames   21054\n",
      "27               Southwark   71844\n",
      "28                  Sutton   25796\n",
      "29           Tower Hamlets   63523\n",
      "30          Waltham Forest   52481\n",
      "31              Wandsworth   47956\n",
      "32             Westminster   78522\n"
     ]
    }
   ],
   "source": [
    "\n",
    "df_london_crime = crimelondon= {'Borough':['Barking and Dagenham','Barnet', 'Bexley','Brent','Bromley','Camdenm','City of London','Croydon','Ealing','Enfield','Greenwich','Hackney','Hammersmith and Fulham','Haringey','Harrow','Havering','Hillingdon','Hounslow','Islington','Kensington and Chelsea','Kingston upon Thames','Lambeth','Lewisham','Merton','Newham','Redbridge','Richmond upon Thames','Southwark','Sutton','Tower Hamlets','Waltham Forest','Wandsworth','Westminster'],'Amount':[44195,47586,30686,65867,\n",
    "47917,\n",
    "53753,\n",
    "68705,\n",
    "69268,\n",
    "70484,\n",
    "45031,\n",
    "58298,\n",
    "60485,\n",
    "44741,\n",
    "53458,\n",
    "30917,\n",
    "35961,\n",
    "54712,\n",
    "53622,\n",
    "55426,\n",
    "30058,\n",
    "22018,\n",
    "74856,\n",
    "66854,\n",
    "28902,\n",
    "68493,\n",
    "43173,\n",
    "21054,\n",
    "71844,\n",
    "25796,\n",
    "63523,\n",
    "52481,\n",
    "47956,\n",
    "78522]}\n",
    "df_london_crime= DataFrame(crimelondon, columns =['Borough','Amount'])\n",
    "print (df_london_crime)"
   ]
  },
  {
   "cell_type": "code",
   "execution_count": 0,
   "metadata": {
    "colab": {},
    "colab_type": "code",
    "id": "qI6TsSXHsP-n"
   },
   "outputs": [],
   "source": [
    "df_london_crime.head()"
   ]
  },
  {
   "cell_type": "code",
   "execution_count": 0,
   "metadata": {
    "colab": {},
    "colab_type": "code",
    "id": "nQBKQDd5sQAF"
   },
   "outputs": [],
   "source": [
    "# filter to include only data labeled as 'Violence Against the Person'\n",
    "df_violent_crime = df_london_crime[df_london_crime['major_category'] == 'Violence Against the Person']\n",
    "\n",
    "\n",
    "# groupby to get the total for each borough\n",
    "df_borough_violent_crime = df_violent_crime.groupby('borough').sum().reset_index()\n",
    "\n",
    "# add a total column\n",
    "df_borough_violent_crime['Total_Crimes'] = df_borough_violent_crime.sum(axis=1)\n",
    "\n",
    "# rename borough to Borough\n",
    "df_borough_violent_crime.rename(columns = {'borough':'Borough'},\n",
    "                                inplace = True)\n",
    "\n",
    "# select only total crimes\n",
    "df_borough_violent_crime = df_borough_violent_crime.iloc[:, [0, -1]]\n",
    "\n",
    "df_borough_violent_crime.head()"
   ]
  },
  {
   "cell_type": "code",
   "execution_count": 0,
   "metadata": {
    "colab": {},
    "colab_type": "code",
    "id": "15c5OdssucgA"
   },
   "outputs": [],
   "source": [
    "# create a dictioanry to map features to their values in the choropleth\n",
    "crime_dict = df_borough_violent_crime.set_index('Borough')['Total_Crimes']\n",
    "\n",
    "crime_dict\n",
    "\n"
   ]
  },
  {
   "cell_type": "markdown",
   "metadata": {
    "colab_type": "text",
    "id": "qST3wa8B2Vwo"
   },
   "source": [
    "### Get data from Foursquare API\n",
    "\n",
    "We'll use the venue category ID for *Elemetary School* from the API [resources](https://developer.foursquare.com/docs/resources/categories)."
   ]
  },
  {
   "cell_type": "markdown",
   "metadata": {
    "colab_type": "text",
    "id": "oZY-MXLxpJfD"
   },
   "source": [
    "#### Test case"
   ]
  },
  {
   "cell_type": "markdown",
   "metadata": {},
   "source": [
    "API Query parameters:"
   ]
  },
  {
   "cell_type": "code",
   "execution_count": 4,
   "metadata": {
    "colab": {},
    "colab_type": "code",
    "id": "xcV4S1ht2VDs"
   },
   "outputs": [],
   "source": [
    "#@hidden_cell\n",
    "# API query parameters\n",
    "CLIENT_ID = 'GRUGY2P3QI43ZYRG5OPHPSRSGC03W4CSSAIQ3OQWC3STHCTO'\n",
    "CLIENT_SECRET = 'SG443HXE2V1RA2VZFEQ2XUEC3HS3WW0DOSJFQOPAJSWVU30N'\n",
    "VERSION = '20190812' \n",
    "CATEGORY_ID = '4f4533804b9074f6e4fb0105'"
   ]
  },
  {
   "cell_type": "code",
   "execution_count": 0,
   "metadata": {
    "colab": {},
    "colab_type": "code",
    "id": "BJF_pKMi2ovX"
   },
   "outputs": [],
   "source": [
    "# sample category search GET request parameters\n",
    "limit = 10\n",
    "radius = 1500\n",
    "geolocator = Nominatim(user_agent='IBM Capstone')\n",
    "london_location = geolocator.geocode('London, UK')\n",
    "intent = 'browse'\n",
    "\n",
    "\n",
    "# create URL for the search endpoint\n",
    "url = 'https://api.foursquare.com/v2/venues/search?&client_id={}'\\\n",
    "      '&client_secret={}&v={}&ll={},{}&radius={}&limit={}&intent={}'\\\n",
    "      '&categoryId={}'.format(\n",
    "            CLIENT_ID, \n",
    "            CLIENT_SECRET, \n",
    "            VERSION, \n",
    "            london_location.latitude, \n",
    "            london_location.longitude, \n",
    "            radius, \n",
    "            limit,\n",
    "            intent,\n",
    "            CATEGORY_ID)"
   ]
  },
  {
   "cell_type": "code",
   "execution_count": 0,
   "metadata": {
    "colab": {},
    "colab_type": "code",
    "id": "kXNzrRxY2zEd"
   },
   "outputs": [],
   "source": [
    "# send the GET request using requests\n",
    "result = requests.get(url).json()\n",
    "\n",
    "# clean the json and extract relevant data\n",
    "data_school = []\n",
    "for i in range(len(result['response']['venues'])):\n",
    "    data_school.append(result['response']['venues'][i])\n"
   ]
  },
  {
   "cell_type": "code",
   "execution_count": 0,
   "metadata": {
    "colab": {},
    "colab_type": "code",
    "id": "fNmDLk9E3UOf"
   },
   "outputs": [],
   "source": [
    "len(result['response']['venues'])"
   ]
  },
  {
   "cell_type": "code",
   "execution_count": 0,
   "metadata": {
    "colab": {},
    "colab_type": "code",
    "id": "ddPIYQjz2tJ2"
   },
   "outputs": [],
   "source": [
    "# put the data in a dataframe\n",
    "df_school_example = json_normalize(data_school)\n",
    "df_school_example[0:2]"
   ]
  },
  {
   "cell_type": "code",
   "execution_count": 0,
   "metadata": {
    "colab": {},
    "colab_type": "code",
    "id": "gWVOedwY4-z5"
   },
   "outputs": [],
   "source": [
    "# select relevant columns and filter \n",
    "filtered_columns = ['name', 'location.lat', 'location.lng']\n",
    "df_school_filtered = df_school_example.loc[:, filtered_columns]\n",
    "\n",
    "# clean columns\n",
    "df_school_filtered.columns = [col.split(\".\")[-1] for col in df_school_filtered.columns]\n",
    "\n",
    "df_school_filtered.head()"
   ]
  },
  {
   "cell_type": "markdown",
   "metadata": {
    "colab_type": "text",
    "id": "HXoNqMyr59Pz"
   },
   "source": [
    "#### Generalise process and apply to London locations"
   ]
  },
  {
   "cell_type": "markdown",
   "metadata": {
    "colab_type": "text",
    "id": "Z91tS-U38_WU"
   },
   "source": [
    "Select a random subset of locations from the tube stations dataframe to make the API request more manageable."
   ]
  },
  {
   "cell_type": "code",
   "execution_count": 0,
   "metadata": {
    "colab": {},
    "colab_type": "code",
    "id": "sI4OiuiTuxDw"
   },
   "outputs": [],
   "source": [
    "# function to generalise data extraction and return a dataframe\n",
    "def get_venues(names, latitudes, longitudes,\n",
    "               radius=2000, limit=10,\n",
    "               intent='browse'):\n",
    "    \n",
    "    column_filter = ['name', 'location.lat', 'location.lng']\n",
    "    \n",
    "    venues_loc_name=[]\n",
    "    venues_loc_lat=[]\n",
    "    venues_loc_lng=[]\n",
    "    venues_list=[]\n",
    "    for name, lat, lng in zip(names, latitudes, longitudes):\n",
    "        #print(name)\n",
    "            \n",
    "        # create the API request URL\n",
    "        url = 'https://api.foursquare.com/v2/venues/search?&client_id={}'\\\n",
    "        '&client_secret={}&v={}&ll={},{}&radius={}&limit={}&intent={}'\\\n",
    "        '&categoryId={}'.format(\n",
    "            CLIENT_ID,\n",
    "            CLIENT_SECRET,\n",
    "            VERSION, \n",
    "            lat, \n",
    "            lng, \n",
    "            radius, \n",
    "            limit,\n",
    "            intent,\n",
    "            CATEGORY_ID)\n",
    "            \n",
    "        # make the GET request\n",
    "        results = requests.get(url).json()\n",
    "        #print(results['response']['venues'])\n",
    "        \n",
    "\n",
    "        for i in range(len(results['response']['venues'])):\n",
    "            venues_loc_name.append(name)\n",
    "            venues_loc_lat.append(lat)\n",
    "            venues_loc_lng.append(lng)\n",
    "            try:\n",
    "                # extract venue information per each name, lat, long location\n",
    "                venues_list.append(results['response']['venues'][i])\n",
    "            \n",
    "            except:\n",
    "                print('No schools found')\n",
    "                pass\n",
    "            \n",
    "        # clean json into dataframe        \n",
    "        df_venues_list = json_normalize(venues_list)\n",
    "        \n",
    "        df_venues_list = df_venues_list.loc[:, column_filter]\n",
    "        \n",
    "        df_venues_list.columns = [col.split(\".\")[-1] \\\n",
    "                                  for col in df_venues_list.columns]\n",
    "        \n",
    "        # add location corresponding to each venue\n",
    "        df_venues_list['Location'] = venues_loc_name\n",
    "        df_venues_list['Location Latitude'] = venues_loc_lat\n",
    "        df_venues_list['Location Longitude'] = venues_loc_lng\n",
    "        \n",
    "\n",
    "    return df_venues_list"
   ]
  },
  {
   "cell_type": "code",
   "execution_count": 0,
   "metadata": {
    "colab": {},
    "colab_type": "code",
    "id": "8VgqRi9p8-k6"
   },
   "outputs": [],
   "source": [
    "# sampling 30% of the total rows\n",
    "df_tube_stations_sample = df_tube_stations.sample(frac=.2)\n",
    "\n",
    "df_tube_stations_sample.describe()"
   ]
  },
  {
   "cell_type": "markdown",
   "metadata": {
    "colab_type": "text",
    "id": "UsB3Z6K_-lS6"
   },
   "source": [
    "Retrieve schools in the proximity of the tube stations subset."
   ]
  },
  {
   "cell_type": "code",
   "execution_count": 0,
   "metadata": {
    "colab": {},
    "colab_type": "code",
    "id": "bqjOgBsAv4_l"
   },
   "outputs": [],
   "source": [
    "df_schools = get_venues(names=df_tube_stations_sample['Name'],\n",
    "                        latitudes=df_tube_stations_sample['Latitude'],\n",
    "                        longitudes=df_tube_stations_sample['Longitude'])\n",
    "\n",
    "df_schools.head()"
   ]
  },
  {
   "cell_type": "code",
   "execution_count": 0,
   "metadata": {
    "colab": {},
    "colab_type": "code",
    "id": "tb88Qd09AbLX"
   },
   "outputs": [],
   "source": [
    "df_schools_grouped = df_schools.groupby('Location').agg({'Location Latitude': 'first',\n",
    "                                                         'Location Longitude': 'first',\n",
    "                                                         'lat': 'first',\n",
    "                                                         'lng':'first',\n",
    "                                                         'name': ', '.join}).reset_index()\n",
    "\n",
    "\n",
    "df_schools_grouped.head()"
   ]
  },
  {
   "cell_type": "code",
   "execution_count": 0,
   "metadata": {
    "colab": {},
    "colab_type": "code",
    "id": "zPgY-0CKCGGn"
   },
   "outputs": [],
   "source": [
    "# cast lat and long as float\n",
    "df_schools_grouped = df_schools_grouped.astype({'Location Latitude': 'float',\n",
    "                                                'Location Longitude': 'float',\n",
    "                                                'lat': 'float',\n",
    "                                                'lng': 'float'})"
   ]
  },
  {
   "cell_type": "markdown",
   "metadata": {
    "colab_type": "text",
    "id": "mBDcpt0m-yzM"
   },
   "source": [
    "### Create map"
   ]
  },
  {
   "cell_type": "code",
   "execution_count": 0,
   "metadata": {
    "colab": {},
    "colab_type": "code",
    "id": "NGmC-slIHzWi"
   },
   "outputs": [],
   "source": [
    "# cast lat and long as float\n",
    "df_tube_stations_sample = df_tube_stations_sample.astype({'Latitude': 'float',\n",
    "                                                          'Longitude': 'float'})"
   ]
  },
  {
   "cell_type": "code",
   "execution_count": 0,
   "metadata": {
    "colab": {},
    "colab_type": "code",
    "id": "UjODOMBE-HkC"
   },
   "outputs": [],
   "source": [
    "london_map = folium.Map(location=[london_location.latitude,\n",
    "                                  london_location.longitude],\n",
    "                        zoom_start=10, control_scale=True,\n",
    "                        width='100%', height='100%', tiles='CartoDB positron')\n",
    "\n",
    "# add tube stations\n",
    "for index, row in df_tube_stations_sample.iterrows():\n",
    "    folium.CircleMarker([row['Latitude'], row['Longitude']],\n",
    "                        radius=2,\n",
    "                        popup=row['Name'],\n",
    "                        color='#001528').add_to(london_map)"
   ]
  },
  {
   "cell_type": "code",
   "execution_count": 0,
   "metadata": {
    "colab": {},
    "colab_type": "code",
    "id": "UmncYHDG7HGs"
   },
   "outputs": [],
   "source": [
    "# add schools \n",
    "for index, row in df_schools_grouped.iterrows():\n",
    "    folium.CircleMarker([row['lat'], row['lng']],\n",
    "                        radius=2,\n",
    "                        popup=row['name'],\n",
    "                        color='red').add_to(london_map)"
   ]
  },
  {
   "cell_type": "code",
   "execution_count": 0,
   "metadata": {
    "colab": {},
    "colab_type": "code",
    "id": "0q8uYmXfIrpU"
   },
   "outputs": [],
   "source": [
    "london_map"
   ]
  },
  {
   "cell_type": "markdown",
   "metadata": {
    "colab_type": "text",
    "id": "ufXajGu7Q3io"
   },
   "source": [
    "![London map](https://i.imgur.com/rbmhqfR.png)\n",
    "\n"
   ]
  },
  {
   "cell_type": "markdown",
   "metadata": {
    "colab_type": "text",
    "id": "wVw8McDCebq6"
   },
   "source": [
    "#### Choropleth map"
   ]
  },
  {
   "cell_type": "code",
   "execution_count": 0,
   "metadata": {
    "colab": {},
    "colab_type": "code",
    "id": "KEzv8fdjebCW"
   },
   "outputs": [],
   "source": [
    "# load geo.json\n",
    "london_geo = os.path.join('/content/drive/My Drive/datasets/', 'london_boroughs_proper.geojson')\n",
    "\n",
    "# set colormap\n",
    "colormap = linear.YlGn_09.scale(df_borough_violent_crime.Total_Crimes.min(), \n",
    "                                df_borough_violent_crime.Total_Crimes.max())\n",
    "\n",
    "print(colormap(5.0))\n",
    "colormap\n",
    "\n",
    "#geo_json_data = json.loads('/content/drive/My Drive/datasets/london_boroughs_proper.json')"
   ]
  },
  {
   "cell_type": "code",
   "execution_count": 0,
   "metadata": {
    "colab": {},
    "colab_type": "code",
    "id": "9UfAPPVUgzUI"
   },
   "outputs": [],
   "source": [
    "# add choropleth to the map\n",
    "london_map.choropleth(geo_data=london_geo,\n",
    "                    data=crime_dict,\n",
    "                    columns=['Borough', 'Total_Crimes'],\n",
    "                    fill_color='YlGn',\n",
    "                    key_on='feature.properties.name',\n",
    "                    fill_opacity=0.6,\n",
    "                    line_opacity=0.2,\n",
    "                    legend_name='Crime')\n",
    "                    \n",
    "folium.LayerControl().add_to(london_map)\n",
    "                   \n",
    "                   \n",
    "london_map.save(os.path.join('/content/drive/My Drive/datasets/',\n",
    "                             'london_crime_choropleth.html'))              \n",
    "                   "
   ]
  },
  {
   "cell_type": "code",
   "execution_count": 0,
   "metadata": {
    "colab": {},
    "colab_type": "code",
    "id": "oR0acz3MzROR"
   },
   "outputs": [],
   "source": [
    "london_map"
   ]
  },
  {
   "cell_type": "markdown",
   "metadata": {
    "colab_type": "text",
    "id": "5SGfrC_ERdiS"
   },
   "source": [
    "![London Crime Map](https://i.imgur.com/L2pCmds.png)\n"
   ]
  }
 ],
 "metadata": {
  "colab": {
   "collapsed_sections": [],
   "name": "Copy of [IBM] Assignment Week 4.ipynb",
   "provenance": [],
   "version": "0.3.2"
  },
  "kernelspec": {
   "display_name": "Python 3.6",
   "language": "python",
   "name": "python3"
  },
  "language_info": {
   "codemirror_mode": {
    "name": "ipython",
    "version": 3
   },
   "file_extension": ".py",
   "mimetype": "text/x-python",
   "name": "python",
   "nbconvert_exporter": "python",
   "pygments_lexer": "ipython3",
   "version": "3.6.8"
  }
 },
 "nbformat": 4,
 "nbformat_minor": 1
}
